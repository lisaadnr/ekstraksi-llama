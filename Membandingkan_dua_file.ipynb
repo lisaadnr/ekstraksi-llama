{
  "nbformat": 4,
  "nbformat_minor": 0,
  "metadata": {
    "colab": {
      "provenance": [],
      "authorship_tag": "ABX9TyNfvmBv6yj23NWNZ5F6KSRP",
      "include_colab_link": true
    },
    "kernelspec": {
      "name": "python3",
      "display_name": "Python 3"
    },
    "language_info": {
      "name": "python"
    }
  },
  "cells": [
    {
      "cell_type": "markdown",
      "metadata": {
        "id": "view-in-github",
        "colab_type": "text"
      },
      "source": [
        "<a href=\"https://colab.research.google.com/github/lisaadnr/ekstraksi-llama/blob/main/Membandingkan_dua_file.ipynb\" target=\"_parent\"><img src=\"https://colab.research.google.com/assets/colab-badge.svg\" alt=\"Open In Colab\"/></a>"
      ]
    },
    {
      "cell_type": "markdown",
      "source": [
        "#Membandingkan Dua File\n",
        "\n",
        "Perbedaan yang dibandingkan adalah Entitas, output yang dihasilkan berupa file .tsv dengan nama entitas yang tidak ditemukan di file pertama dengan informasi lokasi chapter_id dan verse_id."
      ],
      "metadata": {
        "id": "4LsRftqdWw3E"
      }
    },
    {
      "cell_type": "code",
      "execution_count": null,
      "metadata": {
        "colab": {
          "base_uri": "https://localhost:8080/"
        },
        "id": "pEtsvrAm3inX",
        "outputId": "26608fcd-eb3e-42d1-ab10-fd55bf730104"
      },
      "outputs": [
        {
          "output_type": "stream",
          "name": "stdout",
          "text": [
            "         entitas  chapter_id  verse_id\n",
            "3     Pembalasan           1         4\n",
            "34             !           2        31\n",
            "35     Bijaksana           2        32\n",
            "42             !           2        35\n",
            "46             .           2        38\n",
            "...          ...         ...       ...\n",
            "7465     Hawiyah         101        10\n",
            "7467     Hutamah         104         4\n",
            "7468     Hutamah         104         5\n",
            "7478       Lahab         111         1\n",
            "7484       subuh         113         1\n",
            "\n",
            "[837 rows x 3 columns]\n"
          ]
        }
      ],
      "source": [
        "import pandas as pd\n",
        "\n",
        "# Membaca file TSV output_cleaned\n",
        "output_cleaned = pd.read_csv('/content/sample_data/output_sorted_gpt4.tsv', sep='\\t')\n",
        "\n",
        "# Membaca file unique_entities.txt\n",
        "with open('/content/sample_data/unique_entities.txt', 'r') as file:\n",
        "    unique_entities = set(file.read().splitlines())  # Membaca semua entitas unik dan menjadikannya set\n",
        "\n",
        "# Membandingkan entitas yang ada di output_cleaned dengan yang ada di unique_entities\n",
        "# Filter entitas yang tidak ada di unique_entities\n",
        "difference = output_cleaned[~output_cleaned['entitas'].isin(unique_entities)]\n",
        "\n",
        "# Menyimpan hasil dalam format TSV\n",
        "difference[['entitas', 'chapter_id', 'verse_id']].to_csv('difference_output_gpt4.tsv', sep='\\t', index=False)\n",
        "\n",
        "# Menampilkan output\n",
        "print(difference[['entitas', 'chapter_id', 'verse_id']])\n"
      ]
    }
  ]
}