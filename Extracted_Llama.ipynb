{
  "nbformat": 4,
  "nbformat_minor": 0,
  "metadata": {
    "colab": {
      "provenance": [],
      "authorship_tag": "ABX9TyNPPS7nfHcpfAMy8kiJxXM+",
      "include_colab_link": true
    },
    "kernelspec": {
      "name": "python3",
      "display_name": "Python 3"
    },
    "language_info": {
      "name": "python"
    }
  },
  "cells": [
    {
      "cell_type": "markdown",
      "metadata": {
        "id": "view-in-github",
        "colab_type": "text"
      },
      "source": [
        "<a href=\"https://colab.research.google.com/github/lisaadnr/ekstraksi-llama/blob/main/Extracted_Llama.ipynb\" target=\"_parent\"><img src=\"https://colab.research.google.com/assets/colab-badge.svg\" alt=\"Open In Colab\"/></a>"
      ]
    },
    {
      "cell_type": "code",
      "source": [
        "import json\n",
        "import os\n",
        "\n",
        "# Path ke folder yang berisi file JSON\n",
        "folder_path = '/content/sample_data/input'\n",
        "\n",
        "# Fungsi untuk mengekstrak entitas\n",
        "def extract_entities(labels):\n",
        "    # Mengambil string label dan memecahnya berdasarkan spasi\n",
        "    label_string = labels['id']\n",
        "    label_parts = label_string.split()\n",
        "\n",
        "    # Mengambil hanya bagian entitas (sebelum '/') dan mengabaikan label '/O'\n",
        "    entities = [part.split('/')[0] for part in label_parts if '/' in part and part.split('/')[1] != 'O']\n",
        "\n",
        "    return entities\n",
        "\n",
        "# Membaca setiap file JSON di folder dan memprosesnya\n",
        "output = []\n",
        "\n",
        "# Menelusuri semua file di dalam folder\n",
        "for filename in os.listdir(folder_path):\n",
        "    if filename.endswith('.json'):  # Pastikan hanya file JSON yang diproses\n",
        "        file_path = os.path.join(folder_path, filename)\n",
        "\n",
        "        # Membaca data dari file JSON\n",
        "        with open(file_path, 'r', encoding='utf-8') as f:\n",
        "            try:\n",
        "                data = json.load(f)\n",
        "\n",
        "                # Memproses setiap verse dalam chapter\n",
        "                for chapter, verses in data.items():\n",
        "                    for verse_id, verse_data in verses.items():\n",
        "                        # Ekstraksi entitas dari label\n",
        "                        entities = extract_entities(verse_data['labels'])\n",
        "\n",
        "                        # Menambahkan entitas ke output dalam format tuple untuk memudahkan pengurutan\n",
        "                        for entity in entities:\n",
        "                            output.append((int(verse_data['chapterid']), int(verse_data['verse_id']), entity))\n",
        "            except json.JSONDecodeError:\n",
        "                print(f\"File {filename} tidak dapat dibaca sebagai JSON.\")\n",
        "\n",
        "# Mengurutkan output berdasarkan chapterid dan verse_id\n",
        "output.sort(key=lambda x: (x[0], x[1]))  # Urutkan berdasarkan chapterid dan verse_id\n",
        "\n",
        "# Menulis hasil output ke file TSV\n",
        "output_file = '/content/sample_data/output2_sorted.tsv'\n",
        "with open(output_file, 'w', encoding='utf-8') as f:\n",
        "    # Menulis header\n",
        "    f.write(\"chapter_id\\tverse_id\\tentitas\\n\")\n",
        "\n",
        "    # Menulis data entitas yang sudah diurutkan\n",
        "    for line in output:\n",
        "        f.write(f\"{line[0]}\\t{line[1]}\\t{line[2]}\\n\")\n",
        "\n",
        "print(f\"Output telah disimpan dalam file: {output_file}\")\n"
      ],
      "metadata": {
        "colab": {
          "base_uri": "https://localhost:8080/"
        },
        "id": "kprAaY-vnvoL",
        "outputId": "fdfbc92a-c637-4d98-ee55-b841dc11eb05"
      },
      "execution_count": null,
      "outputs": [
        {
          "output_type": "stream",
          "name": "stdout",
          "text": [
            "Output telah disimpan dalam file: /content/sample_data/output2_sorted.tsv\n"
          ]
        }
      ]
    },
    {
      "cell_type": "code",
      "source": [
        "import csv\n",
        "\n",
        "# Path ke file input (output sebelumnya) dan output baru\n",
        "input_file = '/content/sample_data/output2_sorted.tsv'\n",
        "output_file = '/content/sample_data/output_cleaned.tsv'\n",
        "\n",
        "# Fungsi untuk membersihkan tanda kurung di awal entitas\n",
        "def clean_entity(entity):\n",
        "    # Hapus tanda kurung di awal entitas\n",
        "    if entity.startswith('('):\n",
        "        return entity[1:]  # Menghapus karakter pertama yaitu '('\n",
        "    return entity\n",
        "\n",
        "# Membaca file input dan memproses entitas\n",
        "cleaned_output = []\n",
        "\n",
        "with open(input_file, 'r', encoding='utf-8') as infile:\n",
        "    reader = csv.reader(infile, delimiter='\\t')\n",
        "\n",
        "    # Skip header\n",
        "    header = next(reader)\n",
        "\n",
        "    # Menambahkan header ke hasil yang sudah dibersihkan\n",
        "    cleaned_output.append(header)\n",
        "\n",
        "    # Membaca baris satu per satu, membersihkan entitas, dan menambahkannya ke list\n",
        "    for row in reader:\n",
        "        chapter_id = row[0]\n",
        "        verse_id = row[1]\n",
        "        entity = row[2]\n",
        "\n",
        "        # Menghapus tanda kurung di awal entitas\n",
        "        cleaned_entity = clean_entity(entity)\n",
        "\n",
        "        # Menambahkan hasil yang sudah dibersihkan\n",
        "        cleaned_output.append([chapter_id, verse_id, cleaned_entity])\n",
        "\n",
        "# Menulis hasil yang sudah dibersihkan ke file output baru\n",
        "with open(output_file, 'w', encoding='utf-8', newline='') as outfile:\n",
        "    writer = csv.writer(outfile, delimiter='\\t')\n",
        "    # Menulis hasil ke file\n",
        "    writer.writerows(cleaned_output)\n",
        "\n",
        "print(f\"Output yang sudah dibersihkan disimpan dalam file: {output_file}\")\n"
      ],
      "metadata": {
        "colab": {
          "base_uri": "https://localhost:8080/"
        },
        "id": "lfC_pw57oTL9",
        "outputId": "6561cf0c-9576-46ac-c655-717bb9c6a3a6"
      },
      "execution_count": null,
      "outputs": [
        {
          "output_type": "stream",
          "name": "stdout",
          "text": [
            "Output yang sudah dibersihkan disimpan dalam file: /content/sample_data/output_cleaned.tsv\n"
          ]
        }
      ]
    }
  ]
}