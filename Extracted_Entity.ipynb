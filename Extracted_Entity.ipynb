{
  "nbformat": 4,
  "nbformat_minor": 0,
  "metadata": {
    "colab": {
      "provenance": [],
      "authorship_tag": "ABX9TyMNVTyFqmpBS7Eu5Wv3tyUw",
      "include_colab_link": true
    },
    "kernelspec": {
      "name": "python3",
      "display_name": "Python 3"
    },
    "language_info": {
      "name": "python"
    }
  },
  "cells": [
    {
      "cell_type": "markdown",
      "metadata": {
        "id": "view-in-github",
        "colab_type": "text"
      },
      "source": [
        "<a href=\"https://colab.research.google.com/github/lisaadnr/ekstraksi-llama/blob/main/Extracted_Entity.ipynb\" target=\"_parent\"><img src=\"https://colab.research.google.com/assets/colab-badge.svg\" alt=\"Open In Colab\"/></a>"
      ]
    },
    {
      "cell_type": "markdown",
      "source": [
        "### Membersihkan 3 File Drive"
      ],
      "metadata": {
        "id": "5xSSTDOxhA6_"
      }
    },
    {
      "cell_type": "code",
      "source": [
        "import re\n",
        "import os\n",
        "\n",
        "# Tentukan folder input dan output\n",
        "input_folder_path = '/content/sample_data/input2'  # Ganti dengan folder yang sesuai\n",
        "output_file_path = '/content/sample_data/output/output_text.txt'  # Ganti dengan lokasi output yang diinginkan\n",
        "\n",
        "def extract_named_entities(text):\n",
        "    sentences = re.split(r'(?<=\\.)\\s*', text)  # Split by period followed by spaces\n",
        "    seen_entities = set()\n",
        "    result_entities = []\n",
        "\n",
        "    for sentence in sentences:\n",
        "        # Modified regex to match multiple words in one entity\n",
        "        entities_in_sentence = re.findall(r'([^\\s/]+(?:\\s+[^\\s/]+)*)/[^O\\s]+', sentence)  # Match words with labels other than /O\n",
        "        for entity in entities_in_sentence:\n",
        "            if entity not in seen_entities:\n",
        "                result_entities.append(entity.strip())  # Add the entity to the result\n",
        "                seen_entities.add(entity)  # Mark the entity as seen\n",
        "\n",
        "    return result_entities\n",
        "\n",
        "# Menulis hasil ke file output\n",
        "with open(output_file_path, 'w') as output_file:\n",
        "    # Menulis header untuk file output\n",
        "    output_file.write(\"Entity\\n\")\n",
        "\n",
        "    # Mengolah setiap file dalam folder input\n",
        "    for filename in os.listdir(input_folder_path):\n",
        "        if filename.endswith('.txt'):  # Hanya memproses file .txt\n",
        "            file_path = os.path.join(input_folder_path, filename)\n",
        "\n",
        "            # Membaca file\n",
        "            with open(file_path, 'r') as file:\n",
        "                text = file.read()\n",
        "\n",
        "            # Ekstraksi entitas bernama dari teks\n",
        "            named_entities = extract_named_entities(text)\n",
        "\n",
        "            # Menyimpan hasil ekstraksi ke file output\n",
        "            for entity in named_entities:\n",
        "                output_file.write(f\"{entity}\\n\")\n",
        "\n",
        "# Konfirmasi bahwa file output telah disimpan\n",
        "print(f\"Hasil ekstraksi disimpan di: {output_file_path}\")\n"
      ],
      "metadata": {
        "colab": {
          "base_uri": "https://localhost:8080/"
        },
        "id": "R64vHIc_frCS",
        "outputId": "e39aa504-6149-42cc-ee23-ec16b11dcd3a"
      },
      "execution_count": null,
      "outputs": [
        {
          "output_type": "stream",
          "name": "stdout",
          "text": [
            "Hasil ekstraksi disimpan di: /content/sample_data/output/output_text.txt\n"
          ]
        }
      ]
    },
    {
      "cell_type": "markdown",
      "source": [
        "### Membersihkan O di depan dan baris hanya spasi"
      ],
      "metadata": {
        "id": "MGQsMTZ0hIXS"
      }
    },
    {
      "cell_type": "code",
      "source": [
        "import re\n",
        "\n",
        "# Tentukan path file input dan output\n",
        "input_file_path = '/content/sample_data/output/output_text.txt'  # File input yang berisi entitas dengan 'O'\n",
        "output_file_path = '/content/sample_data/output/output_text_cleaned.txt'  # File output yang sudah dibersihkan\n",
        "\n",
        "def clean_entities(input_file, output_file):\n",
        "    with open(input_file, 'r') as infile:\n",
        "        lines = infile.readlines()\n",
        "\n",
        "    cleaned_lines = []\n",
        "\n",
        "    for line in lines:\n",
        "        line = line.strip()  # Hapus spasi di depan dan belakang\n",
        "\n",
        "        if not line:  # Jika baris kosong (hanya berisi spasi), lewati\n",
        "            continue\n",
        "\n",
        "        # Hapus 'O' di depan entitas jika ada\n",
        "        line = re.sub(r'^O\\s+', '', line)  # Menghapus 'O' dan spasi setelahnya di awal entitas\n",
        "\n",
        "        # Tambahkan entitas yang sudah dibersihkan ke dalam list\n",
        "        cleaned_lines.append(line)\n",
        "\n",
        "    # Menyimpan hasil ke file output\n",
        "    with open(output_file, 'w') as outfile:\n",
        "        for cleaned_line in cleaned_lines:\n",
        "            outfile.write(f\"{cleaned_line}\\n\")\n",
        "\n",
        "# Proses file input dan hasilkan output yang sudah dibersihkan\n",
        "clean_entities(input_file_path, output_file_path)\n",
        "\n",
        "# Konfirmasi bahwa file output telah disimpan\n",
        "print(f\"File hasil pembersihan disimpan di: {output_file_path}\")\n"
      ],
      "metadata": {
        "colab": {
          "base_uri": "https://localhost:8080/"
        },
        "id": "yx76aWpXgAuX",
        "outputId": "356c59be-f848-4505-e450-82520f10e51d"
      },
      "execution_count": null,
      "outputs": [
        {
          "output_type": "stream",
          "name": "stdout",
          "text": [
            "File hasil pembersihan disimpan di: /content/sample_data/output/output_text_cleaned.txt\n"
          ]
        }
      ]
    },
    {
      "cell_type": "markdown",
      "source": [
        "## Ekstraksi File JSON GPT-4"
      ],
      "metadata": {
        "id": "vsveC0mJj1No"
      }
    },
    {
      "cell_type": "code",
      "source": [
        "import json\n",
        "import os\n",
        "import re\n",
        "\n",
        "# Path ke folder yang berisi file JSON\n",
        "folder_path = '/content/sample_data/input'  # Ganti dengan folder input Anda\n",
        "\n",
        "# Fungsi untuk mengekstrak entitas menggunakan regex\n",
        "def extract_named_entities(labels):\n",
        "    # Mengambil string label dan memecahnya berdasarkan spasi\n",
        "    # Jika labels adalah list of strings, kita gabungkan menjadi satu string\n",
        "    if isinstance(labels, list):\n",
        "        label_string = ' '.join(labels)\n",
        "    else:\n",
        "        label_string = labels  # Jika sudah berupa string, pakai langsung\n",
        "\n",
        "    # Regex untuk mengekstrak entitas dengan label selain '/O'\n",
        "    entities = re.findall(r'([^\\s/]+(?:\\s+[^\\s/]+)*)/[^O\\s]+', label_string)\n",
        "\n",
        "    return entities\n",
        "\n",
        "# Membaca setiap file JSON di folder dan memprosesnya\n",
        "output = []\n",
        "\n",
        "# Menelusuri semua file di dalam folder\n",
        "for filename in os.listdir(folder_path):\n",
        "    if filename.endswith('.json'):  # Pastikan hanya file JSON yang diproses\n",
        "        file_path = os.path.join(folder_path, filename)\n",
        "\n",
        "        # Membaca data dari file JSON\n",
        "        with open(file_path, 'r', encoding='utf-8') as f:\n",
        "            try:\n",
        "                data = json.load(f)\n",
        "\n",
        "                # Memproses setiap chapter dan verse dalam file JSON\n",
        "                for chapter, verses in data.items():\n",
        "                    for verse_id, verse_data in verses.items():\n",
        "                        # Ekstraksi entitas dari label\n",
        "                        # Pastikan kita mengakses dengan benar, baik itu list atau string\n",
        "                        labels = verse_data.get('labels', {}).get('id', '')  # Ambil id dari labels, jika ada\n",
        "\n",
        "                        # Jika labels tidak ada atau tidak valid, lanjutkan\n",
        "                        if not labels:\n",
        "                            continue\n",
        "\n",
        "                        # Ekstraksi entitas\n",
        "                        entities = extract_named_entities(labels)\n",
        "\n",
        "                        # Menambahkan entitas ke output dalam format tuple untuk memudahkan pengurutan\n",
        "                        for entity in entities:\n",
        "                            output.append((int(verse_data['chapterid']), int(verse_data['verse_id']), entity))\n",
        "            except json.JSONDecodeError:\n",
        "                print(f\"File {filename} tidak dapat dibaca sebagai JSON.\")\n",
        "\n",
        "# Mengurutkan output berdasarkan chapterid dan verse_id\n",
        "output.sort(key=lambda x: (x[0], x[1]))  # Urutkan berdasarkan chapterid dan verse_id\n",
        "\n",
        "# Menulis hasil output ke file TSV\n",
        "output_file = '/content/sample_data/output/output_gpt4.tsv'\n",
        "with open(output_file, 'w', encoding='utf-8') as f:\n",
        "    # Menulis header\n",
        "    f.write(\"chapter_id\\tverse_id\\tentitas\\n\")\n",
        "\n",
        "    # Menulis data entitas yang sudah diurutkan\n",
        "    for line in output:\n",
        "        f.write(f\"{line[0]}\\t{line[1]}\\t{line[2]}\\n\")\n",
        "\n",
        "print(f\"Output telah disimpan dalam file: {output_file}\")\n"
      ],
      "metadata": {
        "colab": {
          "base_uri": "https://localhost:8080/"
        },
        "id": "pxMAbLEqhNZ6",
        "outputId": "370dc69b-61f3-479b-d3a7-595b2e598cf2"
      },
      "execution_count": null,
      "outputs": [
        {
          "output_type": "stream",
          "name": "stdout",
          "text": [
            "Output telah disimpan dalam file: /content/sample_data/output/output_gpt4.tsv\n"
          ]
        }
      ]
    },
    {
      "cell_type": "markdown",
      "source": [
        "## Cleaning huruf O"
      ],
      "metadata": {
        "id": "DCR10nXTjyjU"
      }
    },
    {
      "cell_type": "code",
      "source": [
        "import csv\n",
        "\n",
        "# Path ke file input dan output\n",
        "input_file_path = '/content/sample_data/output/output_gpt4.tsv'  # File input yang berisi data yang ingin diproses\n",
        "output_file_path = '/content/sample_data/output/output_cleaned_gpt4.tsv'  # File output yang sudah dibersihkan\n",
        "\n",
        "def clean_entities(input_file, output_file):\n",
        "    with open(input_file, 'r', encoding='utf-8') as infile:\n",
        "        reader = csv.reader(infile, delimiter='\\t')\n",
        "\n",
        "        # Menulis hasil ke file output\n",
        "        with open(output_file, 'w', encoding='utf-8', newline='') as outfile:\n",
        "            writer = csv.writer(outfile, delimiter='\\t')\n",
        "\n",
        "            # Menulis header ke file output\n",
        "            header = next(reader)  # Membaca header dan menulis ke file output\n",
        "            writer.writerow(header)\n",
        "\n",
        "            for row in reader:\n",
        "                chapter_id = row[0]\n",
        "                verse_id = row[1]\n",
        "                entity = row[2].strip()  # Menghapus spasi di depan dan belakang entitas\n",
        "\n",
        "                # Hapus 'O' di depan entitas jika ada\n",
        "                if entity.startswith('O '):\n",
        "                    entity = entity[2:].strip()  # Menghapus 'O' dan spasi setelahnya\n",
        "\n",
        "                # Menulis entitas yang sudah dibersihkan ke file output\n",
        "                writer.writerow([chapter_id, verse_id, entity])\n",
        "\n",
        "# Proses file input dan hasilkan output yang sudah dibersihkan\n",
        "clean_entities(input_file_path, output_file_path)\n",
        "\n",
        "# Konfirmasi bahwa file output telah disimpan\n",
        "print(f\"File hasil pembersihan disimpan di: {output_file_path}\")\n"
      ],
      "metadata": {
        "colab": {
          "base_uri": "https://localhost:8080/"
        },
        "id": "s87Ifafnjkya",
        "outputId": "36fa7439-db38-4288-82c5-1801e8af0f94"
      },
      "execution_count": null,
      "outputs": [
        {
          "output_type": "stream",
          "name": "stdout",
          "text": [
            "File hasil pembersihan disimpan di: /content/sample_data/output/output_cleaned_gpt4.tsv\n"
          ]
        }
      ]
    },
    {
      "cell_type": "markdown",
      "source": [
        "## Membandingkan File DEV VAL TEST dengan Ekstraksi GPT-4"
      ],
      "metadata": {
        "id": "eP6Y6W0aozA2"
      }
    },
    {
      "cell_type": "code",
      "source": [
        "import pandas as pd\n",
        "\n",
        "# Membaca file TSV output_cleaned\n",
        "output_cleaned = pd.read_csv('/content/sample_data/output/output_cleaned_gpt4.tsv', sep='\\t')\n",
        "\n",
        "# Membaca file unique_entities.txt\n",
        "with open('/content/sample_data/output/output_text_cleaned.txt', 'r') as file:\n",
        "    unique_entities = set(file.read().splitlines())  # Membaca semua entitas unik dan menjadikannya set\n",
        "\n",
        "# Membandingkan entitas yang ada di output_cleaned dengan yang ada di unique_entities\n",
        "# Filter entitas yang tidak ada di unique_entities\n",
        "difference = output_cleaned[~output_cleaned['entitas'].isin(unique_entities)]\n",
        "\n",
        "# Menyimpan hasil dalam format TSV\n",
        "difference[['entitas', 'chapter_id', 'verse_id']].to_csv('difference_output_gpt4.tsv', sep='\\t', index=False)\n",
        "\n",
        "# Menampilkan output\n",
        "print(difference[['entitas', 'chapter_id', 'verse_id']])\n"
      ],
      "metadata": {
        "colab": {
          "base_uri": "https://localhost:8080/"
        },
        "id": "wbBWZRjdlQSb",
        "outputId": "37bb8bc4-3098-4ff8-ca56-c561a3bd7fff"
      },
      "execution_count": null,
      "outputs": [
        {
          "output_type": "stream",
          "name": "stdout",
          "text": [
            "                                       entitas  chapter_id  verse_id\n",
            "3                                   Pembalasan           1         4\n",
            "34    Yang Maha Mengetahui lagi Maha Bijaksana           2        32\n",
            "147                          Kerajaan Sulaiman           2       102\n",
            "217      Yang Maha Perkasa lagi Maha Bijaksana           2       129\n",
            "483                              tentara Talut           2       251\n",
            "...                                        ...         ...       ...\n",
            "7128                                   Hutamah         104         5\n",
            "7131                       orang-orang Quraisy         106         1\n",
            "7138                                 Abu Lahab         111         1\n",
            "7141                             Yang Maha Esa         112         1\n",
            "7144                                     subuh         113         1\n",
            "\n",
            "[640 rows x 3 columns]\n"
          ]
        }
      ]
    },
    {
      "cell_type": "markdown",
      "source": [
        "### Mengganti Ke Unicode"
      ],
      "metadata": {
        "id": "QwJX7Uq1k_lw"
      }
    },
    {
      "cell_type": "code",
      "source": [
        "import csv\n",
        "\n",
        "# Path ke file input dan output\n",
        "input_file_path = '/content/sample_data/output_cleaned.tsv'  # Ganti dengan file input Anda\n",
        "output_file_path = '/content/sample_data/output_unicode.tsv'  # Ganti dengan file output yang ingin Anda simpan\n",
        "\n",
        "# Fungsi untuk mengonversi karakter non-ASCII menjadi Unicode escape sequences\n",
        "def convert_to_unicode_escape(text):\n",
        "    # Mengonversi karakter non-ASCII menjadi escape sequences unicode\n",
        "    return ''.join([f'\\\\u{ord(c):04x}' if ord(c) > 127 else c for c in text])\n",
        "\n",
        "# Membaca file TSV dan mengonversi karakter-karakter non-ASCII\n",
        "def process_tsv(input_file, output_file):\n",
        "    with open(input_file, 'r', encoding='utf-8') as infile:\n",
        "        reader = csv.reader(infile, delimiter='\\t')\n",
        "\n",
        "        # Menulis hasil ke file output\n",
        "        with open(output_file, 'w', encoding='utf-8', newline='') as outfile:\n",
        "            writer = csv.writer(outfile, delimiter='\\t')\n",
        "\n",
        "            header = next(reader)  # Membaca header\n",
        "            writer.writerow(header)  # Menulis header ke file output\n",
        "\n",
        "            # Proses setiap baris dan konversi entitas menjadi Unicode escape sequences\n",
        "            for row in reader:\n",
        "                chapter_id = row[1]\n",
        "                verse_id = row[2]\n",
        "                entity = row[0]\n",
        "\n",
        "                # Konversi entitas ke Unicode escape\n",
        "                entity_unicode = convert_to_unicode_escape(entity)\n",
        "\n",
        "                # Menulis baris dengan entitas yang sudah dikonversi\n",
        "                writer.writerow([entity_unicode, chapter_id, verse_id])\n",
        "\n",
        "# Proses file input dan simpan hasilnya ke file output\n",
        "process_tsv(input_file_path, output_file_path)\n",
        "\n",
        "print(f\"File hasil konversi disimpan di: {output_file_path}\")\n"
      ],
      "metadata": {
        "colab": {
          "base_uri": "https://localhost:8080/"
        },
        "id": "x7I9sjq_r3-v",
        "outputId": "ca31b7b9-4c99-4f8d-f8ff-3de79fbc94a5"
      },
      "execution_count": null,
      "outputs": [
        {
          "output_type": "stream",
          "name": "stdout",
          "text": [
            "File hasil konversi disimpan di: /content/output_unicode.tsv\n"
          ]
        }
      ]
    }
  ]
}